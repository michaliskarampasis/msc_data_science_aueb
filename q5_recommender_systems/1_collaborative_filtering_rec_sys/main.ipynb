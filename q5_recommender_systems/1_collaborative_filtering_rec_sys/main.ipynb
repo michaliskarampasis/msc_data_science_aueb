{
 "cells": [
  {
   "cell_type": "markdown",
   "id": "92fa9918",
   "metadata": {},
   "source": [
    "> # Collaborative Filtering Goodbooks Recommender System"
   ]
  },
  {
   "cell_type": "markdown",
   "id": "1482eaa8",
   "metadata": {},
   "source": [
    "In this project our aim is to find a rating-based or matching-based (binary) dataset that can be used to inform a recsys based on collaborative filtering and build a Python Notebook that:\n",
    "\n",
    "   (1) Loads the dataset\n",
    "\n",
    "   (2) Tries at least 2 different recommendation methods based on collaborative filtering (Tensorflow, Matrix factorization, Count-based)\n",
    "\n",
    "   (3) Uses quantitative metrics to evaluate the recommendations of each of the two methods that you selected."
   ]
  },
  {
   "cell_type": "markdown",
   "id": "feeb2bc1",
   "metadata": {},
   "source": [
    "## About Dataset"
   ]
  },
  {
   "cell_type": "markdown",
   "id": "cc0806d0",
   "metadata": {},
   "source": [
    "To begin with, we have selected a dataset from kaggle containing ten thousand books & one million ratings. \n",
    "\n",
    "The dataset can be found [here](https://www.kaggle.com/datasets/zygmunt/goodbooks-10k?select=ratings.csv).\n",
    "\n",
    "Some informations about the dataset:\n",
    "\n",
    "   * Contains ratings for ten thousand popular books. \n",
    "   * As to the source, let's say that these ratings were found on the internet. \n",
    "   * Generally, there are 100 reviews for each book, although some have less - fewer - ratings. \n",
    "   * Also, ratings go from one to five."
   ]
  },
  {
   "cell_type": "markdown",
   "id": "a6f6d2a8",
   "metadata": {},
   "source": [
    "## Recommender System"
   ]
  },
  {
   "cell_type": "markdown",
   "id": "401642ab",
   "metadata": {},
   "source": [
    "We will start by **importing the necessary libraries**"
   ]
  },
  {
   "cell_type": "code",
   "execution_count": 1,
   "id": "dddbe454",
   "metadata": {},
   "outputs": [],
   "source": [
    "# import libraries\n",
    "import pandas as pd\n",
    "import numpy as np\n",
    "from termcolor import colored\n",
    "from collections import defaultdict\n",
    "from datetime import datetime\n",
    "import random\n",
    "\n",
    "from datasketch import MinHash, MinHashLSH\n",
    "\n",
    "from surprise import Reader, Dataset, SVD\n",
    "from surprise.model_selection.validation import cross_validate\n",
    "\n",
    "from functions.pre_process_data import *\n",
    "from functions.count_based_recsys_functions import *\n",
    "from functions.svd_functions import *"
   ]
  },
  {
   "cell_type": "markdown",
   "id": "c85ba65f",
   "metadata": {},
   "source": [
    "Next, we are going to **import the data** and **select a user** for the recommendations"
   ]
  },
  {
   "cell_type": "code",
   "execution_count": 2,
   "id": "0213c15d",
   "metadata": {},
   "outputs": [],
   "source": [
    "# paths to load data\n",
    "path_books = 'data/books.csv'\n",
    "path_ratings = 'data/ratings.csv'"
   ]
  },
  {
   "cell_type": "code",
   "execution_count": 3,
   "id": "fea1697a",
   "metadata": {},
   "outputs": [
    {
     "name": "stdout",
     "output_type": "stream",
     "text": [
      "Import book data\n",
      "\u001b[32mSuccesfull\u001b[0m\n",
      "\n",
      "Import rating data\n",
      "\u001b[32mSuccesfull\u001b[0m\n",
      "\n"
     ]
    }
   ],
   "source": [
    "# function to import data\n",
    "books, ratings = import_data(path_books,path_ratings)"
   ]
  },
  {
   "cell_type": "code",
   "execution_count": 4,
   "id": "010b70c6",
   "metadata": {},
   "outputs": [
    {
     "name": "stdout",
     "output_type": "stream",
     "text": [
      "Please provide a user ID (eg. a number from 1 to 53424): 123\n",
      "\u001b[32mSuccesfull\u001b[0m\n",
      "\n"
     ]
    }
   ],
   "source": [
    "# function to select user\n",
    "user_id = select_user()"
   ]
  },
  {
   "cell_type": "markdown",
   "id": "6a9b4ebe",
   "metadata": {},
   "source": [
    "Since we have finished the data loading and we have selected a user, we will **start building the recommender system**."
   ]
  },
  {
   "cell_type": "markdown",
   "id": "a6342c97",
   "metadata": {},
   "source": [
    "> ### Count-Based Recommender system"
   ]
  },
  {
   "cell_type": "markdown",
   "id": "1e38fda5",
   "metadata": {},
   "source": [
    "We are going to build our **first recommender system** based on **collaborative filtering** using the min-wise independent permutations **locality sensitive hashing** scheme. [`@MinHash LSH`](https://en.wikipedia.org/wiki/MinHash)"
   ]
  },
  {
   "cell_type": "code",
   "execution_count": 5,
   "id": "58931d17",
   "metadata": {},
   "outputs": [
    {
     "name": "stdout",
     "output_type": "stream",
     "text": [
      "[1] Map each user to discretized ratings\n",
      "\u001b[32mSuccesfull\u001b[0m\n",
      "\n",
      "[2] Create user-based LSH indexes\n",
      "10000 out of 53424 users indexed.\n",
      "20000 out of 53424 users indexed.\n",
      "30000 out of 53424 users indexed.\n",
      "40000 out of 53424 users indexed.\n",
      "50000 out of 53424 users indexed.\n",
      "index created\n",
      "\u001b[32mSuccesfull\u001b[0m\n",
      "\n",
      "[3] The recommendation for user 123 is:\n",
      "\n",
      "I suggest the following books because they have received positive ratings from users who tend to like what you like:\n",
      "\n",
      " book_id                                                                 title\n",
      "    9219 On Becoming Baby Wise: Giving Your Infant the Gift of Nighttime Sleep\n",
      "    3448                                                           Term Limits\n",
      "    4482                  It's a Magical World: A Calvin and Hobbes Collection\n",
      "    7091                                                                 Cabal\n",
      "    3694                The Intelligent Investor (Collins Business Essentials)\n",
      "    9932                                                     Parts (Parts, #1)\n",
      "    6110                                           Defiance (Significance, #3)\n",
      "    4346                                                The Heretic's Daughter\n",
      "    6785                                                       The Krishna Key\n",
      "    6157                           The Summer Garden (The Bronze Horseman, #3)\n",
      "\u001b[32mSuccesfull\u001b[0m\n",
      "\n",
      "[4] Validation of above recommendations\n",
      "Precision: 100 %\n",
      "Recall: 50 %\n",
      "\u001b[32mSuccesfull\u001b[0m\n",
      "\n",
      "Execution time: 0:06:34.168891\n"
     ]
    }
   ],
   "source": [
    "# set starting time\n",
    "start_time = datetime.now()\n",
    "\n",
    "# map each user to discretized ratings\n",
    "ratings_ = map_users_to_discretized_ratings(ratings)\n",
    "\n",
    "# create MinHashLSH inxdexes\n",
    "index, hashes = create_user_based_LSH_index(ratings_)\n",
    "\n",
    "# recommendations\n",
    "df_recommendations, already_rated = get_recommendation_LSH(books, ratings_, user_id, index, hashes)\n",
    "\n",
    "# validation using Precision, Recall\n",
    "precision, recall = validation_of_user_based_recsys(ratings, already_rated, user_id)\n",
    "\n",
    "#end time\n",
    "end_time = datetime.now()\n",
    "\n",
    "#total execution time\n",
    "total_time = end_time - start_time\n",
    "\n",
    "print(f'Execution time: {total_time}')"
   ]
  },
  {
   "cell_type": "markdown",
   "id": "edb7ef41",
   "metadata": {},
   "source": [
    "> ### Recommender System using SVD (Matrix Factorization Technique)"
   ]
  },
  {
   "cell_type": "markdown",
   "id": "5e93c9f9",
   "metadata": {},
   "source": [
    "Next, we will build the **second recommender system** based on **Matrix Factorization**. [`@SVD`](https://en.wikipedia.org/wiki/Singular_value_decomposition)\n",
    "\n",
    "For that porpuse we will use the [`@surprise`](https://pypi.org/project/scikit-surprise/1.0.2/) library."
   ]
  },
  {
   "cell_type": "code",
   "execution_count": 6,
   "id": "26829bc1",
   "metadata": {},
   "outputs": [],
   "source": [
    "# load Reader library\n",
    "reader = Reader(rating_scale=(0.5, 5))\n",
    "    \n",
    "# load ratings dataset with Dataset library\n",
    "data = Dataset.load_from_df(ratings[['user_id', 'book_id', 'rating']], reader)"
   ]
  },
  {
   "cell_type": "code",
   "execution_count": 7,
   "id": "a7270b8c",
   "metadata": {},
   "outputs": [
    {
     "name": "stdout",
     "output_type": "stream",
     "text": [
      "[1] Compute the RMSE of the SVD algorithm\n",
      "Evaluating RMSE of algorithm SVD on 5 split(s).\n",
      "\n",
      "                  Fold 1  Fold 2  Fold 3  Fold 4  Fold 5  Mean    Std     \n",
      "RMSE (testset)    0.8391  0.8404  0.8381  0.8425  0.8421  0.8404  0.0017  \n",
      "Fit time          8.29    8.38    8.54    8.74    8.45    8.48    0.16    \n",
      "Test time         1.08    1.16    1.02    1.10    1.09    1.09    0.05    \n",
      "\u001b[32mSuccesfull\u001b[0m\n",
      "\n",
      "[2] Create training set\n",
      "\u001b[32mSuccesfull\u001b[0m\n",
      "\n",
      "[3] Fit SVD\n",
      "\u001b[32mSuccesfull\u001b[0m\n",
      "\n",
      "[4] The recommendation for user 123 is:\n",
      " book_id                                                      title\n",
      "    4868                                           Jesus the Christ\n",
      "    1788               The Calvin and Hobbes Tenth Anniversary Book\n",
      "    8109                           The Absolute Sandman, Volume One\n",
      "    3628                             The Complete Calvin and Hobbes\n",
      "     862             Words of Radiance (The Stormlight Archive, #2)\n",
      "    5207   The Days Are Just Packed: A Calvin and Hobbes Collection\n",
      "    9566    Attack of the Deranged Mutant Killer Monster Snow Goons\n",
      "    3753               Harry Potter Collection (Harry Potter, #1-6)\n",
      "    1308 A Court of Mist and Fury (A Court of Thorns and Roses, #2)\n",
      "    7947                                            ESV Study Bible\n",
      "\u001b[32mSuccesfull\u001b[0m\n",
      "\n",
      "[5] Validation of above recommendations\n",
      "RMSE:0.75\n",
      "\u001b[32mSuccesfull\u001b[0m\n",
      "\n",
      "Execution time: 0:01:06.989199\n"
     ]
    }
   ],
   "source": [
    "# set starting time\n",
    "start_time = datetime.now()\n",
    "\n",
    "# svd\n",
    "svd = svd_algorithm(data)\n",
    "\n",
    "# recommendations\n",
    "rec_table = recommend_surprise(user_id, ratings, svd, books, 10)\n",
    "\n",
    "# validation using RMSE\n",
    "rmse = validate(user_id, ratings, svd, books) \n",
    "\n",
    "#end time\n",
    "end_time = datetime.now()\n",
    "\n",
    "#total execution time\n",
    "total_time = end_time - start_time\n",
    "\n",
    "print(f'Execution time: {total_time}')"
   ]
  }
 ],
 "metadata": {
  "kernelspec": {
   "display_name": "Python 3 (ipykernel)",
   "language": "python",
   "name": "python3"
  },
  "language_info": {
   "codemirror_mode": {
    "name": "ipython",
    "version": 3
   },
   "file_extension": ".py",
   "mimetype": "text/x-python",
   "name": "python",
   "nbconvert_exporter": "python",
   "pygments_lexer": "ipython3",
   "version": "3.9.12"
  }
 },
 "nbformat": 4,
 "nbformat_minor": 5
}
