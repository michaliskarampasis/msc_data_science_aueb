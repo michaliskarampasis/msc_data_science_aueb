{
 "cells": [
  {
   "cell_type": "markdown",
   "id": "55f28f09",
   "metadata": {},
   "source": [
    "> # Content Based GoodBooks Recommender System"
   ]
  },
  {
   "cell_type": "markdown",
   "id": "efea2670",
   "metadata": {},
   "source": [
    "In this project our aim is to find a a dataset that can be used to inform a content-based recommender systems  and build a Python Notebook that:\n",
    "\n",
    "   (1) Loads the dataset\n",
    "\n",
    "   (2) Creates a content-based recommender system\n",
    "\n",
    "   (3) Uses quantitative metrics to evaluate the recommendations of the system."
   ]
  },
  {
   "cell_type": "markdown",
   "id": "feeb2bc1",
   "metadata": {},
   "source": [
    "## About Dataset"
   ]
  },
  {
   "cell_type": "markdown",
   "id": "cc0806d0",
   "metadata": {},
   "source": [
    "To begin with, we have selected a dataset from kaggle containing ten thousand books & one million ratings. \n",
    "\n",
    "The dataset can be found [here](https://www.kaggle.com/datasets/zygmunt/goodbooks-10k?select=ratings.csv).\n",
    "\n",
    "Some informations about the dataset:\n",
    "\n",
    "   * Contains ratings for ten thousand popular books. \n",
    "   * Generally, there are 100 reviews for each book, although some have less - fewer - ratings. \n",
    "   * There are also books marked to read by the users, book metadata (author, year, etc.) and tags.\n",
    "   * As to the source, let's say that these ratings were found on the internet. \n",
    "\n",
    "Contents of dataset:\n",
    "\n",
    "   * **ratings.csv** contains ratings\n",
    "   * **to_read.csv** provides IDs of the books marked \"to read\" by each user, as user_id,book_id pairs\n",
    "   * **books.csv** has metadata for each book (goodreads IDs, authors, title, average rating, etc.)\n",
    "   * **book_tags.csv** contains tags/shelves/genres assigned by users to books\n",
    "   * **tags.csv** translates tag IDs to names"
   ]
  },
  {
   "cell_type": "markdown",
   "id": "a6f6d2a8",
   "metadata": {},
   "source": [
    "## Content Based Recommender System"
   ]
  },
  {
   "cell_type": "markdown",
   "id": "9f072326",
   "metadata": {},
   "source": [
    "* We will start by **importing the necessary libraries**"
   ]
  },
  {
   "cell_type": "code",
   "execution_count": 1,
   "id": "c585fdc2",
   "metadata": {},
   "outputs": [],
   "source": [
    "import pandas as pd\n",
    "import numpy as np\n",
    "from collections import defaultdict\n",
    "from datetime import datetime\n",
    "\n",
    "from functions.import_and_preprocess_initial_data import import_data\n",
    "from functions.import_and_preprocess_initial_data import preprocess_data\n",
    "\n",
    "from functions.content_based_recsys import load_books\n",
    "from functions.content_based_recsys import get_book_similarity\n",
    "from functions.content_based_recsys import recommend_books\n",
    "from functions.content_based_recsys import generate_users\n",
    "from functions.content_based_recsys import exploit_simulate\n",
    "from functions.content_based_recsys import compute_average_precision\n",
    "\n",
    "pd.set_option('display.max_columns', None)"
   ]
  },
  {
   "cell_type": "markdown",
   "id": "95ee06b6",
   "metadata": {},
   "source": [
    "### Read Data\n",
    "\n",
    "* Next, we will **import** and **pre-process** the **initial data** and **save** them in a **CSV** file"
   ]
  },
  {
   "cell_type": "code",
   "execution_count": 2,
   "id": "8a6a330e",
   "metadata": {},
   "outputs": [
    {
     "name": "stdout",
     "output_type": "stream",
     "text": [
      "df.shape: (9258, 10)\n",
      "\n"
     ]
    },
    {
     "data": {
      "text/html": [
       "<div>\n",
       "<style scoped>\n",
       "    .dataframe tbody tr th:only-of-type {\n",
       "        vertical-align: middle;\n",
       "    }\n",
       "\n",
       "    .dataframe tbody tr th {\n",
       "        vertical-align: top;\n",
       "    }\n",
       "\n",
       "    .dataframe thead th {\n",
       "        text-align: right;\n",
       "    }\n",
       "</style>\n",
       "<table border=\"1\" class=\"dataframe\">\n",
       "  <thead>\n",
       "    <tr style=\"text-align: right;\">\n",
       "      <th></th>\n",
       "      <th>authors</th>\n",
       "      <th>original_publication_year</th>\n",
       "      <th>original_title</th>\n",
       "      <th>average_rating</th>\n",
       "      <th>ratings_count_new</th>\n",
       "      <th>per_positive_ratings</th>\n",
       "      <th>per_negative_ratings</th>\n",
       "      <th>per_average_ratings</th>\n",
       "      <th>total_number_of_tags</th>\n",
       "      <th>tag_name</th>\n",
       "    </tr>\n",
       "    <tr>\n",
       "      <th>id</th>\n",
       "      <th></th>\n",
       "      <th></th>\n",
       "      <th></th>\n",
       "      <th></th>\n",
       "      <th></th>\n",
       "      <th></th>\n",
       "      <th></th>\n",
       "      <th></th>\n",
       "      <th></th>\n",
       "      <th></th>\n",
       "    </tr>\n",
       "  </thead>\n",
       "  <tbody>\n",
       "    <tr>\n",
       "      <th>2767052</th>\n",
       "      <td>Suzanne Collins</td>\n",
       "      <td>2008.0</td>\n",
       "      <td>The Hunger Games</td>\n",
       "      <td>4.34</td>\n",
       "      <td>4942365</td>\n",
       "      <td>84.7</td>\n",
       "      <td>3.9</td>\n",
       "      <td>11.3</td>\n",
       "      <td>287490</td>\n",
       "      <td>favorites, currently-reading, young-adult, fic...</td>\n",
       "    </tr>\n",
       "    <tr>\n",
       "      <th>3</th>\n",
       "      <td>J.K. Rowling, Mary GrandPré</td>\n",
       "      <td>1997.0</td>\n",
       "      <td>Harry Potter and the Philosopher's Stone</td>\n",
       "      <td>4.44</td>\n",
       "      <td>4800065</td>\n",
       "      <td>86.8</td>\n",
       "      <td>3.7</td>\n",
       "      <td>9.5</td>\n",
       "      <td>786374</td>\n",
       "      <td>to-read, favorites, fantasy, currently-reading...</td>\n",
       "    </tr>\n",
       "    <tr>\n",
       "      <th>41865</th>\n",
       "      <td>Stephenie Meyer</td>\n",
       "      <td>2005.0</td>\n",
       "      <td>Twilight</td>\n",
       "      <td>3.57</td>\n",
       "      <td>3916824</td>\n",
       "      <td>56.9</td>\n",
       "      <td>22.8</td>\n",
       "      <td>20.3</td>\n",
       "      <td>121636</td>\n",
       "      <td>young-adult, fantasy, favorites, vampires, ya,...</td>\n",
       "    </tr>\n",
       "    <tr>\n",
       "      <th>2657</th>\n",
       "      <td>Harper Lee</td>\n",
       "      <td>1960.0</td>\n",
       "      <td>To Kill a Mockingbird</td>\n",
       "      <td>4.25</td>\n",
       "      <td>3340896</td>\n",
       "      <td>81.3</td>\n",
       "      <td>5.3</td>\n",
       "      <td>13.4</td>\n",
       "      <td>148466</td>\n",
       "      <td>classics, favorites, to-read, classic, histori...</td>\n",
       "    </tr>\n",
       "    <tr>\n",
       "      <th>4671</th>\n",
       "      <td>F. Scott Fitzgerald</td>\n",
       "      <td>1925.0</td>\n",
       "      <td>The Great Gatsby</td>\n",
       "      <td>3.89</td>\n",
       "      <td>2773745</td>\n",
       "      <td>67.9</td>\n",
       "      <td>10.2</td>\n",
       "      <td>21.9</td>\n",
       "      <td>134429</td>\n",
       "      <td>classics, favorites, fiction, classic, books-i...</td>\n",
       "    </tr>\n",
       "  </tbody>\n",
       "</table>\n",
       "</div>"
      ],
      "text/plain": [
       "                             authors  original_publication_year  \\\n",
       "id                                                                \n",
       "2767052              Suzanne Collins                     2008.0   \n",
       "3        J.K. Rowling, Mary GrandPré                     1997.0   \n",
       "41865                Stephenie Meyer                     2005.0   \n",
       "2657                      Harper Lee                     1960.0   \n",
       "4671             F. Scott Fitzgerald                     1925.0   \n",
       "\n",
       "                                   original_title  average_rating  \\\n",
       "id                                                                  \n",
       "2767052                          The Hunger Games            4.34   \n",
       "3        Harry Potter and the Philosopher's Stone            4.44   \n",
       "41865                                    Twilight            3.57   \n",
       "2657                        To Kill a Mockingbird            4.25   \n",
       "4671                             The Great Gatsby            3.89   \n",
       "\n",
       "         ratings_count_new  per_positive_ratings  per_negative_ratings  \\\n",
       "id                                                                       \n",
       "2767052            4942365                  84.7                   3.9   \n",
       "3                  4800065                  86.8                   3.7   \n",
       "41865              3916824                  56.9                  22.8   \n",
       "2657               3340896                  81.3                   5.3   \n",
       "4671               2773745                  67.9                  10.2   \n",
       "\n",
       "         per_average_ratings  total_number_of_tags  \\\n",
       "id                                                   \n",
       "2767052                 11.3                287490   \n",
       "3                        9.5                786374   \n",
       "41865                   20.3                121636   \n",
       "2657                    13.4                148466   \n",
       "4671                    21.9                134429   \n",
       "\n",
       "                                                  tag_name  \n",
       "id                                                          \n",
       "2767052  favorites, currently-reading, young-adult, fic...  \n",
       "3        to-read, favorites, fantasy, currently-reading...  \n",
       "41865    young-adult, fantasy, favorites, vampires, ya,...  \n",
       "2657     classics, favorites, to-read, classic, histori...  \n",
       "4671     classics, favorites, fiction, classic, books-i...  "
      ]
     },
     "execution_count": 2,
     "metadata": {},
     "output_type": "execute_result"
    }
   ],
   "source": [
    "# paths to load data\n",
    "path_books = 'data/books.csv'\n",
    "path_ratings = 'data/ratings.csv'\n",
    "path_book_tags = 'data/book_tags.csv'\n",
    "path_tags = 'data/tags.csv'\n",
    "\n",
    "# function to import data\n",
    "books, ratings, book_tags, tags = import_data(path_books, path_ratings, path_book_tags, path_tags)\n",
    "\n",
    "# function to preprocess data\n",
    "df = preprocess_data(ratings, books, book_tags, tags)\n",
    "\n",
    "# export preprocess data to csv\n",
    "df.to_csv('data/preprocessed_data.csv',index=False)\n",
    "\n",
    "#print df info\n",
    "print(f'df.shape: {df.shape}',end='\\n\\n')\n",
    "df.head(5)"
   ]
  },
  {
   "cell_type": "markdown",
   "id": "6a9b4ebe",
   "metadata": {},
   "source": [
    "### Load Preprocessed Data\n",
    "* We **load the preprocessed data** we saved before using the `load_books` function\n",
    "* This function:\n",
    "   * takes as **input** the **path of the CSV** file where we have store the preprocessed data\n",
    "   * **creates a new class** named `book`, which defines the attributes of a book object\n",
    "   * **returns** a **list** named `books` having each book object, a **dictionary** called `title_index` holding the index of each book title and a **matrix** called `tags_similarity_matrix` havingthe cosine similarities between the book tags.       "
   ]
  },
  {
   "cell_type": "code",
   "execution_count": 4,
   "id": "ee0e020c",
   "metadata": {},
   "outputs": [
    {
     "name": "stdout",
     "output_type": "stream",
     "text": [
      "Loading of Preprocessed Data Completed\n",
      "\n",
      "Execution time: 0:00:04.738516\n"
     ]
    }
   ],
   "source": [
    "# set starting time\n",
    "start_time = datetime.now()\n",
    "\n",
    "# function to load pre-processed data regarding books\n",
    "books, tags_similarity_matrix, title_index = load_books('data/preprocessed_data.csv')\n",
    "\n",
    "# end time\n",
    "end_time = datetime.now()\n",
    "\n",
    "# total execution time\n",
    "total_time = end_time - start_time\n",
    "\n",
    "print('Loading of Preprocessed Data Completed', end='\\n\\n')\n",
    "print(f'Execution time: {total_time}')"
   ]
  },
  {
   "cell_type": "markdown",
   "id": "cf34011a",
   "metadata": {},
   "source": [
    "### Recommendations"
   ]
  },
  {
   "cell_type": "markdown",
   "id": "c8b8c882",
   "metadata": {},
   "source": [
    "* In this step we will run a **recommendation example**, given a book title, to recommend books, in order to see how our recommender system works\n",
    "* For this porpuse, we will run the function `recommend_books`\n",
    "* This function:\n",
    "   * takes as **input** a **book_title** and some other parameters\n",
    "   * **returns** a **dictionary** with all the recommendations for the given title, sorted by their simialrity score\n",
    "* The parameter `weights` contains the weights we want to assign to each factor and can **range between 0 and 1**"
   ]
  },
  {
   "cell_type": "code",
   "execution_count": 5,
   "id": "53c90b7a",
   "metadata": {},
   "outputs": [],
   "source": [
    "# define weights\n",
    "weights = {'authors':1,\n",
    "           'publication_year':1,\n",
    "           'rating':1,\n",
    "           'positive_ratings':1,\n",
    "           'tags':1\n",
    "          } "
   ]
  },
  {
   "cell_type": "code",
   "execution_count": 6,
   "id": "e8720fd9",
   "metadata": {},
   "outputs": [
    {
     "name": "stdout",
     "output_type": "stream",
     "text": [
      "Below are the books that are similar to <Harry Potter and the Philosopher's Stone>\n",
      "\n",
      "Recommendation 1\n",
      "-----------------\n",
      "Book Title: Harry Potter and the Deathly Hallows\n",
      "Similarity Score: 3.43\n",
      "Factors: [('authors', 1.0), ('positive_ratings', 0.95), ('tags', 0.92), ('rating', 0.46), ('publication_year', 0.1)]\n",
      "\n",
      "Recommendation 2\n",
      "-----------------\n",
      "Book Title: Harry Potter and the Half-Blood Prince\n",
      "Similarity Score: 3.42\n",
      "Factors: [('authors', 1.0), ('positive_ratings', 0.96), ('tags', 0.93), ('rating', 0.45), ('publication_year', 0.08)]\n",
      "\n",
      "Recommendation 3\n",
      "-----------------\n",
      "Book Title: Harry Potter and the Chamber of Secrets\n",
      "Similarity Score: 3.4\n",
      "Factors: [('authors', 1.0), ('positive_ratings', 0.98), ('tags', 0.97), ('rating', 0.44), ('publication_year', 0.01)]\n",
      "\n",
      "Recommendation 4\n",
      "-----------------\n",
      "Book Title: Harry Potter and the Goblet of Fire\n",
      "Similarity Score: 3.36\n",
      "Factors: [('authors', 1.0), ('positive_ratings', 0.96), ('tags', 0.92), ('rating', 0.45), ('publication_year', 0.03)]\n",
      "\n",
      "Recommendation 5\n",
      "-----------------\n",
      "Book Title: Peter Pan\n",
      "Similarity Score: 3.2\n",
      "Factors: [('publication_year', 0.93), ('positive_ratings', 0.88), ('tags', 0.6), ('rating', 0.41), ('authors', 0.38)]\n",
      "\n",
      "Recommendation 6\n",
      "-----------------\n",
      "Book Title: Just So Stories for Little Children\n",
      "Similarity Score: 3.2\n",
      "Factors: [('publication_year', 0.95), ('positive_ratings', 0.88), ('authors', 0.5), ('tags', 0.46), ('rating', 0.41)]\n",
      "\n",
      "Recommendation 7\n",
      "-----------------\n",
      "Book Title: Harry Potter and the Order of the Phoenix\n",
      "Similarity Score: 3.16\n",
      "Factors: [('authors', 1.0), ('positive_ratings', 0.99), ('tags', 0.66), ('rating', 0.45), ('publication_year', 0.06)]\n",
      "\n",
      "Recommendation 8\n",
      "-----------------\n",
      "Book Title: Anne of Green Gables\n",
      "Similarity Score: 3.16\n",
      "Factors: [('positive_ratings', 0.93), ('publication_year', 0.89), ('tags', 0.59), ('rating', 0.42), ('authors', 0.33)]\n",
      "\n",
      "Recommendation 9\n",
      "-----------------\n",
      "Book Title: Harry Potter and the Prisoner of Azkaban\n",
      "Similarity Score: 3.14\n",
      "Factors: [('positive_ratings', 0.97), ('tags', 0.96), ('authors', 0.74), ('rating', 0.45), ('publication_year', 0.02)]\n",
      "\n",
      "Recommendation 10\n",
      "-----------------\n",
      "Book Title: Captains Courageous\n",
      "Similarity Score: 3.14\n",
      "Factors: [('publication_year', 1.0), ('positive_ratings', 0.79), ('authors', 0.5), ('tags', 0.46), ('rating', 0.39)]\n",
      "\n",
      "Execution time: 0:00:00.271358\n"
     ]
    }
   ],
   "source": [
    "# set example title (you can also use the title: 'The Hunger Games')\n",
    "example_title = \"Harry Potter and the Philosopher's Stone\"\n",
    "\n",
    "# set starting time\n",
    "start_time = datetime.now()\n",
    "\n",
    "# define how many books to recommend\n",
    "books_to_recommend = 10\n",
    "\n",
    "# run function for recommendation\n",
    "recommendations = recommend_books(example_title,\n",
    "                                  books_to_recommend,\n",
    "                                  books,\n",
    "                                  weights,\n",
    "                                  tags_similarity_matrix,\n",
    "                                  title_index)\n",
    "\n",
    "\n",
    "# print the recommendations\n",
    "print(f'Below are the books that are similar to <{example_title}>',end='\\n\\n')\n",
    "\n",
    "for i, recommendation in enumerate(recommendations):\n",
    "    print(f'Recommendation {i+1}')\n",
    "    print(\"-\"*17)\n",
    "    print(f'Book Title: {recommendation[0]}')\n",
    "    print(f'Similarity Score: {recommendation[1][0]}')\n",
    "    print(f'Factors: {recommendation[1][1]}',end='\\n\\n')\n",
    "\n",
    "\n",
    "# end time\n",
    "end_time = datetime.now()\n",
    "\n",
    "# total execution time\n",
    "total_time = end_time - start_time\n",
    "\n",
    "print(f'Execution time: {total_time}')"
   ]
  },
  {
   "cell_type": "markdown",
   "id": "00aa601d",
   "metadata": {},
   "source": [
    "### Evaluation"
   ]
  },
  {
   "cell_type": "markdown",
   "id": "0840d6dd",
   "metadata": {},
   "source": [
    "* In our next step, we want to **evaluate** the results of our recommender system **based on quantitative metrics**.\n",
    "* For this reason we will:\n",
    "\n",
    "     (1) Generate Fake Users\n",
    "     \n",
    "     (2) Make Recommendations for those Users\n",
    "     \n",
    "     (3) Evaluate results based on **Mean Average Precision (MAP) Score**"
   ]
  },
  {
   "cell_type": "markdown",
   "id": "40087c86",
   "metadata": {},
   "source": [
    "* We will start by **Generating Fake Users**\n",
    "* For that porpuse, we will use the function `generate_users` which **creates 10 fake users with 5 random seed books each**"
   ]
  },
  {
   "cell_type": "code",
   "execution_count": 7,
   "id": "c1570d05",
   "metadata": {},
   "outputs": [],
   "source": [
    "# define factors to consider when generating fake users\n",
    "factors = ['authors',\n",
    "           'publication_year',\n",
    "           'rating',\n",
    "           'positive_ratings',\n",
    "           'tags'\n",
    "          ]"
   ]
  },
  {
   "cell_type": "code",
   "execution_count": 8,
   "id": "dca1baaf",
   "metadata": {},
   "outputs": [
    {
     "name": "stdout",
     "output_type": "stream",
     "text": [
      "10 fake users have been created succesfully\n",
      "\n",
      "Execution time: 0:00:09.215274\n"
     ]
    }
   ],
   "source": [
    "# set starting time\n",
    "start_time = datetime.now()\n",
    "\n",
    "#run function to generate fake users\n",
    "users = generate_users(books, tags_similarity_matrix, title_index,factors)\n",
    "\n",
    "# end time\n",
    "end_time = datetime.now()\n",
    "\n",
    "# total execution time\n",
    "total_time = end_time - start_time\n",
    "\n",
    "print(f'Execution time: {total_time}')"
   ]
  },
  {
   "cell_type": "markdown",
   "id": "07a8bddb",
   "metadata": {},
   "source": [
    "* Then, we will **make recommendations for the fake users**\n",
    "* We will use the function `exploit_simulate` which **recommend 50 books** to each fake user and **returns which books each user likes or dislikes**"
   ]
  },
  {
   "cell_type": "code",
   "execution_count": 9,
   "id": "1e755de7",
   "metadata": {},
   "outputs": [
    {
     "name": "stdout",
     "output_type": "stream",
     "text": [
      "For user 1 the Total Likes out of 50 are : 45\n",
      "For user 2 the Total Likes out of 50 are : 28\n",
      "For user 3 the Total Likes out of 50 are : 27\n",
      "For user 4 the Total Likes out of 50 are : 27\n",
      "For user 5 the Total Likes out of 50 are : 32\n",
      "For user 6 the Total Likes out of 50 are : 13\n",
      "For user 7 the Total Likes out of 50 are : 24\n",
      "For user 8 the Total Likes out of 50 are : 27\n",
      "For user 9 the Total Likes out of 50 are : 43\n",
      "For user 10 the Total Likes out of 50 are : 22\n",
      "Execution time: 0:14:04.190004\n"
     ]
    }
   ],
   "source": [
    "# set starting time\n",
    "start_time = datetime.now()\n",
    "\n",
    "# function to assign likes and dislikes to each fake user\n",
    "user_recommended_books = exploit_simulate(users, books, title_index, tags_similarity_matrix)\n",
    "\n",
    "# end time\n",
    "end_time = datetime.now()\n",
    "\n",
    "# total execution time\n",
    "total_time = end_time - start_time\n",
    "\n",
    "print(f'Execution time: {total_time}')"
   ]
  },
  {
   "cell_type": "markdown",
   "id": "1e482b16",
   "metadata": {},
   "source": [
    "* Since we have created fake users and we have their preferences, we continue with the **evaluation of our recommender system**\n",
    "* Our evaluation will be based on **Mean Average Precision (MAP)**.\n",
    "* We will first calculate the **average precision score for each user**, using the function `compute_average_precision` and then we will **compute the average of all the users**."
   ]
  },
  {
   "cell_type": "code",
   "execution_count": 10,
   "id": "d7d7b7c9",
   "metadata": {},
   "outputs": [
    {
     "name": "stdout",
     "output_type": "stream",
     "text": [
      "Mean Average Precision (MAP): 0.62\n"
     ]
    }
   ],
   "source": [
    "# initialize list to store the precision of each user\n",
    "users_avg_precisions = []\n",
    "\n",
    "# for each user \n",
    "for user, recommended_books in user_recommended_books.items():\n",
    "    \n",
    "    # compute average precision of each user\n",
    "    avg_precision = compute_average_precision(recommended_books)\n",
    "    \n",
    "    # append to the list\n",
    "    users_avg_precisions.append(avg_precision)\n",
    "\n",
    "# compute the mean average precision\n",
    "mean_avg_precision = round(np.mean(users_avg_precisions),2)\n",
    "\n",
    "print(f'Mean Average Precision (MAP): {mean_avg_precision}')"
   ]
  }
 ],
 "metadata": {
  "kernelspec": {
   "display_name": "Python 3 (ipykernel)",
   "language": "python",
   "name": "python3"
  },
  "language_info": {
   "codemirror_mode": {
    "name": "ipython",
    "version": 3
   },
   "file_extension": ".py",
   "mimetype": "text/x-python",
   "name": "python",
   "nbconvert_exporter": "python",
   "pygments_lexer": "ipython3",
   "version": "3.9.12"
  }
 },
 "nbformat": 4,
 "nbformat_minor": 5
}
